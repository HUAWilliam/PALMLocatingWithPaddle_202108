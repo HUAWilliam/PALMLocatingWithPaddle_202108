{
 "cells": [
  {
   "cell_type": "markdown",
   "source": [
    "解压数据集"
   ],
   "metadata": {}
  },
  {
   "cell_type": "code",
   "execution_count": 1,
   "source": [
    "%cd /home/aistudio/data/data100477\r\n",
    "!unzip ./常规赛：PALM眼底彩照中黄斑中央凹定位.zip\r\n",
    "!mv -f /home/aistudio/data/data100477/常规赛：PALM眼底彩照中黄斑中央凹定位/* /home/aistudio/data"
   ],
   "outputs": [
    {
     "output_type": "stream",
     "name": "stdout",
     "text": [
      "  inflating: __MACOSX/常规赛：PALM眼底彩照中黄斑中央凹定位/._Train  \r"
     ]
    }
   ],
   "metadata": {
    "collapsed": false
   }
  },
  {
   "cell_type": "markdown",
   "source": [
    "清除保存的模型及结果文件\r\n",
    "- 确认这么做的后果之前，请勿运行该代码。"
   ],
   "metadata": {}
  },
  {
   "cell_type": "code",
   "execution_count": 2,
   "source": [
    "%cd /home/aistudio/work\r\n",
    "!rm -rf savepoint\r\n",
    "!rm Fovea_Localization_Results.csv\r\n",
    "!mkdir -p savepoint"
   ],
   "outputs": [
    {
     "output_type": "stream",
     "name": "stdout",
     "text": [
      "/home/aistudio/work\n"
     ]
    }
   ],
   "metadata": {
    "collapsed": false
   }
  },
  {
   "cell_type": "markdown",
   "source": [
    "导入包，设置随机种子。"
   ],
   "metadata": {}
  },
  {
   "cell_type": "code",
   "execution_count": 3,
   "source": [
    "import os\r\n",
    "import math\r\n",
    "import numpy as np\r\n",
    "import pandas as pd\r\n",
    "from PIL import Image\r\n",
    "np.random.seed(0)"
   ],
   "outputs": [],
   "metadata": {
    "collapsed": false
   }
  },
  {
   "cell_type": "markdown",
   "source": [
    "读取测试集数据的label"
   ],
   "metadata": {}
  },
  {
   "cell_type": "code",
   "execution_count": 4,
   "source": [
    "trY=pd.read_excel('../data/Train/Fovea_Location_train.xlsx')\r\n",
    "trZero=trY[(trY['Fovea_X']==0)&(trY['Fovea_Y']==0)] # 0值特例样本\r\n",
    "trZero_list=list(trZero['imgName'])\r\n",
    "# trY=trY.drop(trY[(trY['Fovea_X']==0)&(trY['Fovea_Y']==0)].index) # 去除0值特例样本\r\n",
    "trX_list=list(trY['imgName'])\r\n",
    "trY=np.array(trY[['Fovea_X','Fovea_Y']],dtype=np.float32)\r\n",
    "print(len(trX_list))\r\n",
    "print(trY.shape)"
   ],
   "outputs": [
    {
     "output_type": "stream",
     "name": "stdout",
     "text": [
      "800\n",
      "(800, 2)\n"
     ]
    }
   ],
   "metadata": {
    "collapsed": false
   }
  },
  {
   "cell_type": "markdown",
   "source": [
    "生成paddle数据集类\r\n",
    "- 对图片的预处理如下：\r\n",
    "    - resize至[224,224,3]\r\n",
    "    - 转换为np.array\r\n",
    "    - 除255.0使得像素分布在0~1之间\r\n",
    "    - 改变通道位置Channel Last->Channel First\r\n",
    "- 对标签的预处理如下：\r\n",
    "    - 将标签坐标除以对应维度的分辨率，得到相对坐标\r\n",
    "    - 将相对坐标缩放到新的分辨率224*224下"
   ],
   "metadata": {}
  },
  {
   "cell_type": "code",
   "execution_count": 5,
   "source": [
    "from paddle.io import Dataset\r\n",
    "import paddle.vision.transforms as T\r\n",
    "\r\n",
    "class PALMTrData(Dataset):\r\n",
    "    def __init__(self,path,pic_list,y):\r\n",
    "        super(PALMTrData,self).__init__()\r\n",
    "        self.path=path\r\n",
    "        self.y=y\r\n",
    "        self.pic_list=pic_list\r\n",
    "        print(len(self.pic_list))\r\n",
    "    \r\n",
    "    def __getitem__(self,idx):\r\n",
    "        # X-feature\r\n",
    "        pic_name=self.pic_list[idx]\r\n",
    "        pic=Image.open(self.path+'/'+pic_name)\r\n",
    "        pic_size=pic.size\r\n",
    "        pic=pic.resize((224,224),Image.ANTIALIAS)\r\n",
    "        pic=np.array(pic,dtype=np.float32)\r\n",
    "        pic=pic/255.0\r\n",
    "        pic=T.to_tensor(pic)\r\n",
    "        # Y-label\r\n",
    "        label=self.y[idx].copy()\r\n",
    "        label[0]=224.0*label[0]/pic_size[0]\r\n",
    "        label[1]=224.0*label[1]/pic_size[1]\r\n",
    "        return pic,label\r\n",
    "\r\n",
    "    def __len__(self):\r\n",
    "        return len(self.pic_list)\r\n",
    "\r\n",
    "class PALMTsData(Dataset):\r\n",
    "    def __init__(self,path):\r\n",
    "        super(PALMTsData,self).__init__()\r\n",
    "        self.path=path\r\n",
    "        self.pic_list=os.listdir(path)\r\n",
    "        print(len(self.pic_list))\r\n",
    "    \r\n",
    "    def __getitem__(self,idx):\r\n",
    "        pic_name=self.pic_list[idx]\r\n",
    "        pic=Image.open(self.path+'/'+pic_name)\r\n",
    "        pic=pic.resize((224,224),Image.ANTIALIAS)\r\n",
    "        pic=np.array(pic,dtype=np.float32)\r\n",
    "        pic=pic/255.0\r\n",
    "        pic=T.to_tensor(pic)\r\n",
    "        return pic,0\r\n",
    "\r\n",
    "    def __len__(self):\r\n",
    "        return len(self.pic_list)\r\n",
    "\r\n",
    "class PALMZeroData(Dataset):\r\n",
    "    def __init__(self,path,pic_list):\r\n",
    "        super(PALMZeroData,self).__init__()\r\n",
    "        self.path=path\r\n",
    "        self.pic_list=pic_list\r\n",
    "        print(len(self.pic_list))\r\n",
    "    \r\n",
    "    def __getitem__(self,idx):\r\n",
    "        pic_name=self.pic_list[idx]\r\n",
    "        pic=Image.open(self.path+'/'+pic_name)\r\n",
    "        pic=pic.resize((224,224),Image.ANTIALIAS)\r\n",
    "        pic=np.array(pic,dtype=np.float32)\r\n",
    "        pic=pic/255.0\r\n",
    "        pic=T.to_tensor(pic)\r\n",
    "        return pic,0\r\n",
    "\r\n",
    "    def __len__(self):\r\n",
    "        return len(self.pic_list)\r\n",
    "\r\n",
    "tr_path='../data/Train/fundus_image'\r\n",
    "trData=PALMTrData(path=tr_path,pic_list=trX_list,y=trY)\r\n",
    "ts_path='../data/PALM-Testing400-Images'\r\n",
    "tsData=PALMTsData(path=ts_path)\r\n",
    "zeroData=PALMZeroData(path=tr_path,pic_list=trZero_list)"
   ],
   "outputs": [
    {
     "output_type": "stream",
     "name": "stdout",
     "text": [
      "800\n",
      "400\n",
      "6\n"
     ]
    }
   ],
   "metadata": {
    "collapsed": false
   }
  },
  {
   "cell_type": "markdown",
   "source": [
    "构建模型，设置随机种子，设置训练设备为GPU\r\n",
    "- 模型使用预训练模型resnet50为主体\r\n",
    "- 下游任务分类器结构为2层全连接网络(1000->100->2)，以relu激活，并辅以Dropout=0.2防止过拟合\r\n",
    "- 下游任务被设定为回归任务，分别回归x,y坐标"
   ],
   "metadata": {}
  },
  {
   "cell_type": "code",
   "execution_count": 6,
   "source": [
    "import paddle\r\n",
    "paddle.seed(0)\r\n",
    "paddle.set_device('gpu')\r\n",
    "from paddle import nn\r\n",
    "import paddle.nn.functional as F\r\n",
    "from paddle.vision.models import resnet50\r\n",
    "\r\n",
    "class PALM(nn.Layer):\r\n",
    "    def __init__(self):\r\n",
    "        super(PALM,self).__init__()\r\n",
    "        self.resnet=resnet50(pretrained=True)\r\n",
    "        self.do1=nn.Dropout(p=0.2)\r\n",
    "        self.lr1=nn.Linear(in_features=1000, out_features=100)\r\n",
    "        self.do2=nn.Dropout(p=0.2)\r\n",
    "        self.lr2=nn.Linear(in_features=100, out_features=2)\r\n",
    "\r\n",
    "    def forward(self,x):\r\n",
    "        x=self.resnet(x)\r\n",
    "        x=F.relu(x)\r\n",
    "        x=self.do1(x)\r\n",
    "        x=self.lr1(x)\r\n",
    "        x=F.relu(x)\r\n",
    "        x=self.do2(x)\r\n",
    "        x=self.lr2(x)\r\n",
    "        return x"
   ],
   "outputs": [],
   "metadata": {
    "collapsed": false
   }
  },
  {
   "cell_type": "markdown",
   "source": [
    "全局参数设置\r\n",
    "- 集成模型数：10\r\n",
    "- 训练、预测批大小：16\r\n",
    "- 训练回合：50\r\n",
    "- 学习率：固定5e-5"
   ],
   "metadata": {}
  },
  {
   "cell_type": "code",
   "execution_count": 7,
   "source": [
    "bagging=10\r\n",
    "batch_size=16\r\n",
    "epochs=50\r\n",
    "lr=5e-5"
   ],
   "outputs": [],
   "metadata": {
    "collapsed": false
   }
  },
  {
   "cell_type": "markdown",
   "source": [
    "模型训练\r\n",
    "- 优化器：adam\r\n",
    "- Loss：与比赛的最终评价分数相同，欧氏距离=MSELoss\r\n",
    "- 数据异步读取：2个进程\r\n",
    "- 训练集：全部训练数据\r\n",
    "- 验证集：无"
   ],
   "metadata": {}
  },
  {
   "cell_type": "code",
   "execution_count": 8,
   "source": [
    "from paddle.optimizer import Adam\r\n",
    "from paddle.nn import MSELoss\r\n",
    "from paddle.metric import Accuracy\r\n",
    "\r\n",
    "inputs=paddle.static.InputSpec([-1, 3, 224, 224], dtype='float32', name='input')\r\n",
    "label=paddle.static.InputSpec([-1, 2], dtype='float32', name='label')\r\n",
    "model=[]\r\n",
    "for i in range(bagging):\r\n",
    "    model.append(paddle.Model(PALM(), inputs, label))\r\n",
    "    model[i].prepare(optimizer=Adam(learning_rate=lr,parameters=model[i].parameters()),loss=MSELoss(),metrics=Accuracy())\r\n",
    "    print('------------start fit model {}------------'.format(i))\r\n",
    "    model[i].fit(train_data=trData,batch_size=batch_size,epochs=epochs,verbose=1,num_workers=2)\r\n",
    "    print('-------------end fit model {}-------------'.format(i))"
   ],
   "outputs": [
    {
     "output_type": "stream",
     "name": "stderr",
     "text": [
      "100%|██████████| 151272/151272 [00:03<00:00, 43602.73it/s]\n"
     ]
    },
    {
     "output_type": "stream",
     "name": "stdout",
     "text": [
      "------------start fit model 0------------\n",
      "The loss value printed in the log is the current step, and the metric is the average value of previous steps.\n",
      "Epoch 1/50\n"
     ]
    },
    {
     "output_type": "stream",
     "name": "stderr",
     "text": [
      "/opt/conda/envs/python35-paddle120-env/lib/python3.7/site-packages/paddle/fluid/layers/utils.py:77: DeprecationWarning: Using or importing the ABCs from 'collections' instead of from 'collections.abc' is deprecated, and in 3.8 it will stop working\n",
      "  return (isinstance(seq, collections.Sequence) and\n",
      "/opt/conda/envs/python35-paddle120-env/lib/python3.7/site-packages/paddle/nn/layer/norm.py:641: UserWarning: When training, we now always track global mean and variance.\n",
      "  \"When training, we now always track global mean and variance.\")\n"
     ]
    },
    {
     "output_type": "stream",
     "name": "stdout",
     "text": [
      "-------------end fit model 9-------------\r"
     ]
    }
   ],
   "metadata": {
    "collapsed": false
   }
  },
  {
   "cell_type": "markdown",
   "source": [
    "测试数据生成预测结构\r\n",
    "- 集成模型结果逐个汇总"
   ],
   "metadata": {}
  },
  {
   "cell_type": "code",
   "execution_count": 9,
   "source": [
    "preds=np.zeros((bagging,400,2))\r\n",
    "for i in range(bagging):\r\n",
    "    pps=model[i].predict(tsData,batch_size=batch_size,num_workers=2)\r\n",
    "    preds[i,:,:]=np.squeeze(np.array(pps)).reshape((400,2))"
   ],
   "outputs": [
    {
     "output_type": "stream",
     "name": "stdout",
     "text": [
      "Predict begin...\n",
      "step 25/25 [==============================] - 1s/step            \n",
      "Predict samples: 400\n",
      "Predict begin...\n",
      "step 25/25 [==============================] - 963ms/step        \n",
      "Predict samples: 400\n",
      "Predict begin...\n",
      "step 25/25 [==============================] - 975ms/step         \n",
      "Predict samples: 400\n",
      "Predict begin...\n",
      "step 25/25 [==============================] - 963ms/step         \n",
      "Predict samples: 400\n",
      "Predict begin...\n",
      "step 25/25 [==============================] - 972ms/step         \n",
      "Predict samples: 400\n",
      "Predict begin...\n",
      "step 25/25 [==============================] - 959ms/step         \n",
      "Predict samples: 400\n",
      "Predict begin...\n",
      "step 25/25 [==============================] - 968ms/step        \n",
      "Predict samples: 400\n",
      "Predict begin...\n",
      "step 25/25 [==============================] - 947ms/step        \n",
      "Predict samples: 400\n",
      "Predict begin...\n",
      "step 25/25 [==============================] - 967ms/step        \n",
      "Predict samples: 400\n",
      "Predict begin...\n",
      "step 25/25 [==============================] - 938ms/step        \n",
      "Predict samples: 400\n"
     ]
    }
   ],
   "metadata": {
    "collapsed": false
   }
  },
  {
   "cell_type": "markdown",
   "source": [
    "合并集成模型结果\r\n",
    "- 对(x,y)分别取均值\r\n",
    "- 将预测的标签缩放回原分辨率\r\n",
    "- 保存成提交文件"
   ],
   "metadata": {}
  },
  {
   "cell_type": "code",
   "execution_count": 10,
   "source": [
    "pred=np.mean(preds,axis=0)\r\n",
    "pred_list=os.listdir(ts_path)\r\n",
    "print(pred.shape)\r\n",
    "for i,pic_name in enumerate(pred_list):\r\n",
    "    pic=Image.open(ts_path+'/'+pic_name)\r\n",
    "    pic_size=pic.size\r\n",
    "    pred[i,0]=pred[i,0]*pic_size[0]/224.0\r\n",
    "    pred[i,1]=pred[i,1]*pic_size[1]/224.0\r\n",
    "ans=pd.DataFrame({'FileName':pred_list,'Fovea_X':pred[:,0],'Fovea_Y':pred[:,1]})\r\n",
    "ans=ans.sort_values(by='FileName',ignore_index=True)\r\n",
    "ans.to_csv('./Fovea_Localization_Results.csv',index=0)"
   ],
   "outputs": [
    {
     "output_type": "stream",
     "name": "stdout",
     "text": [
      "(400, 2)\n"
     ]
    }
   ],
   "metadata": {
    "collapsed": false
   }
  },
  {
   "cell_type": "markdown",
   "source": [
    "来看看训练集中特殊的6个(0,0)样本\r\n",
    "- 预测效果基本接近(0,0)，而不是像正常图片一样位于图像中央附近"
   ],
   "metadata": {}
  },
  {
   "cell_type": "code",
   "execution_count": 11,
   "source": [
    "for i in range(bagging):\r\n",
    "    pred_zero=model[i].predict(zeroData)\r\n",
    "    pred_zero=np.squeeze(np.array(pred_zero))\r\n",
    "    for i,pic_name in enumerate(trZero_list):\r\n",
    "        pic=Image.open(tr_path+'/'+pic_name)\r\n",
    "        pic_size=pic.size\r\n",
    "        pred_zero[i,0]=pred_zero[i,0]*pic_size[0]/224.0\r\n",
    "        pred_zero[i,1]=pred_zero[i,1]*pic_size[1]/224.0\r\n",
    "    print(pred_zero)"
   ],
   "outputs": [
    {
     "output_type": "stream",
     "name": "stdout",
     "text": [
      "Predict begin...\n",
      "step 6/6 [==============================] - 86ms/step        \n",
      "Predict samples: 6\n",
      "[[30.977886 29.560293]\n",
      " [30.298336 28.31375 ]\n",
      " [39.123344 34.739216]\n",
      " [28.119568 25.524931]\n",
      " [32.980995 30.997164]\n",
      " [26.794113 23.975035]]\n",
      "Predict begin...\n",
      "step 6/6 [==============================] - 80ms/step        \n",
      "Predict samples: 6\n",
      "[[ 62.43268   61.759304]\n",
      " [ 61.888336  60.275875]\n",
      " [432.57928  407.9349  ]\n",
      " [ 57.427326  54.19331 ]\n",
      " [ 93.55544   86.48122 ]\n",
      " [ 50.160126  49.298267]]\n",
      "Predict begin...\n",
      "step 6/6 [==============================] - 82ms/step        \n",
      "Predict samples: 6\n",
      "[[39.2759   34.780766]\n",
      " [40.383167 36.43218 ]\n",
      " [58.805923 48.587856]\n",
      " [33.8789   29.17144 ]\n",
      " [48.40486  40.310764]\n",
      " [35.168938 32.21965 ]]\n",
      "Predict begin...\n",
      "step 6/6 [==============================] - 83ms/step        \n",
      "Predict samples: 6\n",
      "[[43.494564 45.781975]\n",
      " [48.071712 55.601288]\n",
      " [68.41006  74.72025 ]\n",
      " [56.565243 61.780388]\n",
      " [70.04275  76.33488 ]\n",
      " [48.51297  47.58485 ]]\n",
      "Predict begin...\n",
      "step 6/6 [==============================] - 82ms/step        \n",
      "Predict samples: 6\n",
      "[[42.17471  54.511265]\n",
      " [48.60631  63.666996]\n",
      " [68.94334  87.98751 ]\n",
      " [53.07412  70.2337  ]\n",
      " [59.633038 75.09362 ]\n",
      " [30.731052 38.346474]]\n",
      "Predict begin...\n",
      "step 6/6 [==============================] - 81ms/step        \n",
      "Predict samples: 6\n",
      "[[ 59.424232  56.29186 ]\n",
      " [ 67.278336  55.45467 ]\n",
      " [ 85.02973   70.32189 ]\n",
      " [ 81.077324  65.32526 ]\n",
      " [100.66673   82.875084]\n",
      " [ 59.232613  49.772976]]\n",
      "Predict begin...\n",
      "step 6/6 [==============================] - 81ms/step        \n",
      "Predict samples: 6\n",
      "[[44.2049   40.31526 ]\n",
      " [45.58547  40.998363]\n",
      " [43.075085 36.470436]\n",
      " [37.046726 32.508255]\n",
      " [57.216785 51.404095]\n",
      " [36.510986 31.012415]]\n",
      "Predict begin...\n",
      "step 6/6 [==============================] - 80ms/step        \n",
      "Predict samples: 6\n",
      "[[32.00875  49.016075]\n",
      " [36.020947 53.831524]\n",
      " [67.1619   85.31505 ]\n",
      " [52.33116  73.533676]\n",
      " [56.862194 75.8579  ]\n",
      " [56.569603 70.81469 ]]\n",
      "Predict begin...\n",
      "step 6/6 [==============================] - 80ms/step        \n",
      "Predict samples: 6\n",
      "[[16.922487 25.624979]\n",
      " [21.51173  29.835348]\n",
      " [33.731937 45.84229 ]\n",
      " [27.17677  37.401485]\n",
      " [30.593412 42.51742 ]\n",
      " [14.478151 18.492882]]\n",
      "Predict begin...\n",
      "step 6/6 [==============================] - 81ms/step        \n",
      "Predict samples: 6\n",
      "[[59.403442 59.139637]\n",
      " [52.807503 57.62357 ]\n",
      " [69.37715  70.30232 ]\n",
      " [44.27553  47.782333]\n",
      " [66.08828  68.69262 ]\n",
      " [48.899906 49.535194]]\n"
     ]
    }
   ],
   "metadata": {
    "collapsed": false
   }
  },
  {
   "cell_type": "markdown",
   "source": [
    "模型参数保存"
   ],
   "metadata": {}
  },
  {
   "cell_type": "code",
   "execution_count": 14,
   "source": [
    "for i in range(bagging):\r\n",
    "    model[i].save('./savepoint/final_{}'.format(i),training=False)"
   ],
   "outputs": [
    {
     "output_type": "stream",
     "name": "stderr",
     "text": [
      "/opt/conda/envs/python35-paddle120-env/lib/python3.7/site-packages/paddle/fluid/layers/math_op_patch.py:322: UserWarning: /opt/conda/envs/python35-paddle120-env/lib/python3.7/site-packages/paddle/vision/models/resnet.py:143\n",
      "The behavior of expression A + B has been unified with elementwise_add(X, Y, axis=-1) from Paddle 2.0. If your code works well in the older versions but crashes in this version, try to use elementwise_add(X, Y, axis=0) instead of A + B. This transitional warning will be dropped in the future.\n",
      "  op_type, op_type, EXPRESSION_MAP[method_name]))\n"
     ]
    }
   ],
   "metadata": {
    "collapsed": false
   }
  }
 ],
 "metadata": {
  "kernelspec": {
   "display_name": "PaddlePaddle 2.1.2 (Python 3.5)",
   "language": "python",
   "name": "py35-paddle1.2.0"
  },
  "language_info": {
   "codemirror_mode": {
    "name": "ipython",
    "version": 3
   },
   "file_extension": ".py",
   "mimetype": "text/x-python",
   "name": "python",
   "nbconvert_exporter": "python",
   "pygments_lexer": "ipython3",
   "version": "3.7.4"
  }
 },
 "nbformat": 4,
 "nbformat_minor": 1
}