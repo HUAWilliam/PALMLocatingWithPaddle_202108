{
 "cells": [
  {
   "cell_type": "markdown",
   "source": [
    "解压数据集"
   ],
   "metadata": {
    "collapsed": false
   }
  },
  {
   "cell_type": "code",
   "execution_count": 1,
   "source": [
    "%cd /home/aistudio/data/data100477\r\n",
    "!unzip ./常规赛：PALM眼底彩照中黄斑中央凹定位.zip\r\n",
    "!mv -f /home/aistudio/data/data100477/常规赛：PALM眼底彩照中黄斑中央凹定位/* /home/aistudio/data"
   ],
   "outputs": [
    {
     "output_type": "stream",
     "name": "stdout",
     "text": [
      "  inflating: __MACOSX/常规赛：PALM眼底彩照中黄斑中央凹定位/._Train  \r"
     ]
    }
   ],
   "metadata": {
    "collapsed": false
   }
  },
  {
   "cell_type": "markdown",
   "source": [
    "进入工作区间"
   ],
   "metadata": {
    "collapsed": false
   }
  },
  {
   "cell_type": "code",
   "execution_count": 2,
   "source": [
    "%cd /home/aistudio/work"
   ],
   "outputs": [
    {
     "output_type": "stream",
     "name": "stdout",
     "text": [
      "/home/aistudio/work\n"
     ]
    }
   ],
   "metadata": {
    "collapsed": false
   }
  },
  {
   "cell_type": "markdown",
   "source": [
    "导入包，设置随机种子。"
   ],
   "metadata": {
    "collapsed": false
   }
  },
  {
   "cell_type": "code",
   "execution_count": 3,
   "source": [
    "import os\r\n",
    "import math\r\n",
    "import numpy as np\r\n",
    "import pandas as pd\r\n",
    "from PIL import Image\r\n",
    "np.random.seed(0)"
   ],
   "outputs": [],
   "metadata": {
    "collapsed": false
   }
  },
  {
   "cell_type": "markdown",
   "source": [
    "生成paddle数据集类\r\n",
    "- 对图片的预处理如下：\r\n",
    "    - resize至[224,224,3]\r\n",
    "    - 转换为np.array\r\n",
    "    - 除255.0使得像素分布在0~1之间\r\n",
    "    - 改变通道位置Channel Last->Channel First\r\n",
    "- 对标签的预处理如下：\r\n",
    "    - 将标签坐标除以对应维度的分辨率，得到相对坐标\r\n",
    "    - 将相对坐标缩放到新的分辨率224*224下\r\n",
    "\r\n",
    "测试集只构建测试数据集类"
   ],
   "metadata": {
    "collapsed": false
   }
  },
  {
   "cell_type": "code",
   "execution_count": 4,
   "source": [
    "from paddle.io import Dataset\r\n",
    "import paddle.vision.transforms as T\r\n",
    "\r\n",
    "# class PALMTrData(Dataset):\r\n",
    "#     def __init__(self,path,pic_list,y):\r\n",
    "#         super(PALMTrData,self).__init__()\r\n",
    "#         self.path=path\r\n",
    "#         self.y=y\r\n",
    "#         self.pic_list=pic_list\r\n",
    "#         print(len(self.pic_list))\r\n",
    "    \r\n",
    "#     def __getitem__(self,idx):\r\n",
    "#         # X-feature\r\n",
    "#         pic_name=self.pic_list[idx]\r\n",
    "#         pic=Image.open(self.path+'/'+pic_name)\r\n",
    "#         pic_size=pic.size\r\n",
    "#         pic=pic.resize((224,224),Image.ANTIALIAS)\r\n",
    "#         pic=np.array(pic,dtype=np.float32)\r\n",
    "#         pic=pic/255.0\r\n",
    "#         pic=T.to_tensor(pic)\r\n",
    "#         # Y-label\r\n",
    "#         label=self.y[idx].copy()\r\n",
    "#         label[0]=224.0*label[0]/pic_size[0]\r\n",
    "#         label[1]=224.0*label[1]/pic_size[1]\r\n",
    "#         return pic,label\r\n",
    "\r\n",
    "#     def __len__(self):\r\n",
    "#         return len(self.pic_list)\r\n",
    "\r\n",
    "class PALMTsData(Dataset):\r\n",
    "    def __init__(self,path):\r\n",
    "        super(PALMTsData,self).__init__()\r\n",
    "        self.path=path\r\n",
    "        self.pic_list=os.listdir(path)\r\n",
    "        print(len(self.pic_list))\r\n",
    "    \r\n",
    "    def __getitem__(self,idx):\r\n",
    "        pic_name=self.pic_list[idx]\r\n",
    "        pic=Image.open(self.path+'/'+pic_name)\r\n",
    "        pic=pic.resize((224,224),Image.ANTIALIAS)\r\n",
    "        pic=np.array(pic,dtype=np.float32)\r\n",
    "        pic=pic/255.0\r\n",
    "        pic=T.to_tensor(pic)\r\n",
    "        return pic,0\r\n",
    "\r\n",
    "    def __len__(self):\r\n",
    "        return len(self.pic_list)\r\n",
    "\r\n",
    "# tr_path='../data/Train/fundus_image'\r\n",
    "# trData=PALMTrData(path=tr_path,pic_list=trX_list,y=trY)\r\n",
    "ts_path='../data/PALM-Testing400-Images'\r\n",
    "tsData=PALMTsData(path=ts_path)"
   ],
   "outputs": [
    {
     "output_type": "stream",
     "name": "stdout",
     "text": [
      "400\n"
     ]
    }
   ],
   "metadata": {
    "collapsed": false
   }
  },
  {
   "cell_type": "markdown",
   "source": [
    "构建模型，设置随机种子，设置训练设备为GPU\r\n",
    "- 模型使用预训练模型resnet50为主体\r\n",
    "- 下游任务分类器结构为2层全连接网络(1000->100->2)，以relu激活，并辅以Dropout=0.2防止过拟合\r\n",
    "- 下游任务被设定为回归任务，分别回归x,y坐标"
   ],
   "metadata": {
    "collapsed": false
   }
  },
  {
   "cell_type": "code",
   "execution_count": 5,
   "source": [
    "import paddle\r\n",
    "paddle.seed(0)\r\n",
    "paddle.set_device('gpu')\r\n",
    "from paddle import nn\r\n",
    "import paddle.nn.functional as F\r\n",
    "from paddle.vision.models import resnet50\r\n",
    "\r\n",
    "class PALM(nn.Layer):\r\n",
    "    def __init__(self):\r\n",
    "        super(PALM,self).__init__()\r\n",
    "        self.resnet=resnet50(pretrained=True)\r\n",
    "        self.do1=nn.Dropout(p=0.2)\r\n",
    "        self.lr1=nn.Linear(in_features=1000, out_features=100)\r\n",
    "        self.do2=nn.Dropout(p=0.2)\r\n",
    "        self.lr2=nn.Linear(in_features=100, out_features=2)\r\n",
    "\r\n",
    "    def forward(self,x):\r\n",
    "        x=self.resnet(x)\r\n",
    "        x=F.relu(x)\r\n",
    "        x=self.do1(x)\r\n",
    "        x=self.lr1(x)\r\n",
    "        x=F.relu(x)\r\n",
    "        x=self.do2(x)\r\n",
    "        x=self.lr2(x)\r\n",
    "        return x"
   ],
   "outputs": [],
   "metadata": {
    "collapsed": false
   }
  },
  {
   "cell_type": "markdown",
   "source": [
    "全局参数设置\r\n",
    "- 集成模型数：10\r\n",
    "- 训练、预测批大小：16\r\n",
    "- 训练回合：50\r\n",
    "- 学习率：固定5e-5"
   ],
   "metadata": {
    "collapsed": false
   }
  },
  {
   "cell_type": "code",
   "execution_count": 6,
   "source": [
    "bagging=10\r\n",
    "batch_size=16\r\n",
    "epochs=50\r\n",
    "lr=5e-5"
   ],
   "outputs": [],
   "metadata": {
    "collapsed": false
   }
  },
  {
   "cell_type": "markdown",
   "source": [
    "逐个加载集成模型\r\n",
    "- 优化器：adam\r\n",
    "- Loss：与比赛的最终评价分数相同，欧氏距离=MSELoss"
   ],
   "metadata": {
    "collapsed": false
   }
  },
  {
   "cell_type": "code",
   "execution_count": 7,
   "source": [
    "from paddle.optimizer import Adam\r\n",
    "from paddle.nn import MSELoss\r\n",
    "from paddle.metric import Accuracy\r\n",
    "\r\n",
    "inputs=paddle.static.InputSpec([-1, 3, 224, 224], dtype='float32', name='input')\r\n",
    "label=paddle.static.InputSpec([-1, 2], dtype='float32', name='label')\r\n",
    "model=[]\r\n",
    "for i in range(bagging):\r\n",
    "    print('------------start load model {}------------'.format(i))\r\n",
    "    palm=PALM()\r\n",
    "    palm.set_state_dict(paddle.load('./savepoint/final_{}'.format(i)))\r\n",
    "    model.append(paddle.Model(palm, inputs, label))\r\n",
    "    model[i].prepare(optimizer=Adam(learning_rate=lr,parameters=model[i].parameters()),loss=MSELoss(),metrics=Accuracy())\r\n",
    "    print('-------------end load model {}-------------'.format(i))"
   ],
   "outputs": [
    {
     "output_type": "stream",
     "name": "stdout",
     "text": [
      "------------start load model 0------------\n"
     ]
    },
    {
     "output_type": "stream",
     "name": "stderr",
     "text": [
      "100%|██████████| 151272/151272 [00:02<00:00, 53272.87it/s]\n",
      "/opt/conda/envs/python35-paddle120-env/lib/python3.7/site-packages/paddle/fluid/backward.py:1666: DeprecationWarning: Using or importing the ABCs from 'collections' instead of from 'collections.abc' is deprecated, and in 3.8 it will stop working\n",
      "  return list(x) if isinstance(x, collections.Sequence) else [x]\n"
     ]
    },
    {
     "output_type": "stream",
     "name": "stdout",
     "text": [
      "-------------end load model 0-------------\n",
      "------------start load model 1------------\n",
      "-------------end load model 1-------------\n",
      "------------start load model 2------------\n",
      "-------------end load model 2-------------\n",
      "------------start load model 3------------\n",
      "-------------end load model 3-------------\n",
      "------------start load model 4------------\n",
      "-------------end load model 4-------------\n",
      "------------start load model 5------------\n",
      "-------------end load model 5-------------\n",
      "------------start load model 6------------\n",
      "-------------end load model 6-------------\n",
      "------------start load model 7------------\n",
      "-------------end load model 7-------------\n",
      "------------start load model 8------------\n",
      "-------------end load model 8-------------\n",
      "------------start load model 9------------\n",
      "-------------end load model 9-------------\n"
     ]
    }
   ],
   "metadata": {
    "collapsed": false
   }
  },
  {
   "cell_type": "markdown",
   "source": [
    "测试数据生成预测结构\r\n",
    "- 集成模型结果逐个汇总\r\n",
    "- 预测数据异步读取：2个进程"
   ],
   "metadata": {
    "collapsed": false
   }
  },
  {
   "cell_type": "code",
   "execution_count": 8,
   "source": [
    "preds=np.zeros((bagging,400,2))\r\n",
    "for i in range(bagging):\r\n",
    "    pps=model[i].predict(tsData,batch_size=batch_size,num_workers=2)\r\n",
    "    preds[i,:,:]=np.squeeze(np.array(pps)).reshape((400,2))"
   ],
   "outputs": [
    {
     "output_type": "stream",
     "name": "stdout",
     "text": [
      "Predict begin...\n",
      "step 25/25 [==============================] - 879ms/step         \n",
      "Predict samples: 400\n",
      "Predict begin...\n",
      "step 25/25 [==============================] - 855ms/step         \n",
      "Predict samples: 400\n",
      "Predict begin...\n",
      "step 25/25 [==============================] - 857ms/step         \n",
      "Predict samples: 400\n",
      "Predict begin...\n",
      "step 25/25 [==============================] - 896ms/step         \n",
      "Predict samples: 400\n",
      "Predict begin...\n",
      "step 25/25 [==============================] - 854ms/step         \n",
      "Predict samples: 400\n",
      "Predict begin...\n",
      "step 25/25 [==============================] - 861ms/step         \n",
      "Predict samples: 400\n",
      "Predict begin...\n",
      "step 25/25 [==============================] - 862ms/step         \n",
      "Predict samples: 400\n",
      "Predict begin...\n",
      "step 25/25 [==============================] - 882ms/step        \n",
      "Predict samples: 400\n",
      "Predict begin...\n",
      "step 25/25 [==============================] - 867ms/step         \n",
      "Predict samples: 400\n",
      "Predict begin...\n",
      "step 25/25 [==============================] - 872ms/step         \n",
      "Predict samples: 400\n"
     ]
    }
   ],
   "metadata": {
    "collapsed": false
   }
  },
  {
   "cell_type": "markdown",
   "source": [
    "合并集成模型结果\r\n",
    "- 对(x,y)分别取均值\r\n",
    "- 将预测的标签缩放回原分辨率\r\n",
    "- 保存成提交文件"
   ],
   "metadata": {
    "collapsed": false
   }
  },
  {
   "cell_type": "code",
   "execution_count": 9,
   "source": [
    "pred=np.mean(preds,axis=0)\r\n",
    "pred_list=os.listdir(ts_path)\r\n",
    "print(pred.shape)\r\n",
    "for i,pic_name in enumerate(pred_list):\r\n",
    "    pic=Image.open(ts_path+'/'+pic_name)\r\n",
    "    pic_size=pic.size\r\n",
    "    pred[i,0]=pred[i,0]*pic_size[0]/224.0\r\n",
    "    pred[i,1]=pred[i,1]*pic_size[1]/224.0\r\n",
    "ans=pd.DataFrame({'FileName':pred_list,'Fovea_X':pred[:,0],'Fovea_Y':pred[:,1]})\r\n",
    "ans=ans.sort_values(by='FileName',ignore_index=True)\r\n",
    "ans.to_csv('./Fovea_Localization_Results_Test.csv',index=0)"
   ],
   "outputs": [
    {
     "output_type": "stream",
     "name": "stdout",
     "text": [
      "(400, 2)\n"
     ]
    }
   ],
   "metadata": {
    "collapsed": false
   }
  },
  {
   "cell_type": "markdown",
   "source": [
    "## 注意事项与特殊说明\r\n",
    "由于GitHub对大文件上传限制，模型训练参数checkpoint无法上传。\r\n",
    "- 完整repo详见AI studio项目：https://aistudio.baidu.com/aistudio/projectdetail/2310885"
   ],
   "metadata": {}
  }
 ],
 "metadata": {
  "kernelspec": {
   "display_name": "PaddlePaddle 2.1.2 (Python 3.5)",
   "language": "python",
   "name": "py35-paddle1.2.0"
  },
  "language_info": {
   "codemirror_mode": {
    "name": "ipython",
    "version": 3
   },
   "file_extension": ".py",
   "mimetype": "text/x-python",
   "name": "python",
   "nbconvert_exporter": "python",
   "pygments_lexer": "ipython3",
   "version": "3.7.4"
  }
 },
 "nbformat": 4,
 "nbformat_minor": 1
}